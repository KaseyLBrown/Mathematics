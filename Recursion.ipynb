{
 "cells": [
  {
   "cell_type": "markdown",
   "id": "2077fde8-2070-407b-94d1-1de6af99d87b",
   "metadata": {},
   "source": [
    "#This was the thing I used to practice\n",
    "plist=[]\n",
    "def countdown(p):\n",
    "    plist.append(p)\n",
    "    print(plist)\n",
    "    print('Number of Elements', len(plist))\n",
    "    if p==0:\n",
    "        p=len(plist)\n",
    "        print(p)\n",
    "        del plist[:]\n",
    "        return\n",
    "    else:\n",
    "        countdown(p-1)"
   ]
  },
  {
   "cell_type": "code",
   "execution_count": 30,
   "id": "a8862d59-5347-4fa1-b2fa-84af36aac125",
   "metadata": {},
   "outputs": [],
   "source": [
    "#Simple even function used in the collatz sequence\n",
    "def IsEven(a):\n",
    "    if a%2==0:\n",
    "        return True\n",
    "    else:\n",
    "        return False"
   ]
  },
  {
   "cell_type": "code",
   "execution_count": 27,
   "id": "6b29601a-815c-468e-a07a-d39f8abdb2d4",
   "metadata": {},
   "outputs": [],
   "source": [
    "#Explanation: I have 2 lists, one to track the values for each collatz sequence and the other to track the number of elements in each collatz sequence so\n",
    "#I can answer the assigned question. I made a recursize sequence that changes based on if it is odd or even, then restarts the process. Then I append each\n",
    "#k to my clist until it is is equal to 0. Then I take the cardinality and get rid of the list. I looked it up and other peeps did it way different but my\n",
    "#way is cool as cucumber B)\n",
    "clist=[]\n",
    "elelist=[]\n",
    "def collatz(k):\n",
    "    clist.append(k)\n",
    "    if k==1:\n",
    "        e=len(clist)\n",
    "        elelist.append(e)\n",
    "        del clist[:]\n",
    "        return\n",
    "    elif IsEven(k)==True:\n",
    "        collatz(k/2)\n",
    "    elif IsEven(k)==False:\n",
    "        collatz((3*k)+1)"
   ]
  },
  {
   "cell_type": "code",
   "execution_count": 28,
   "id": "63d893f8-310a-4c13-8c7c-502c5cd354df",
   "metadata": {},
   "outputs": [],
   "source": [
    "#The cardinality list is not in here because I couldn't make it work, but deleting its elements is a consideration here. This is a very straightforard for\n",
    "#loop running through 1 and c, then finding the max cardinality of collatz in the interval [1,c]. I can't find a way to automatically extract which one\n",
    "#is correct, but I could use Excel integration I think to put the vaules in there if I really wanted to. In lieu of that I just scrolled down and looked.\n",
    "def collatzcard(c):\n",
    "    for k in range(1,c+1):\n",
    "        print(k)\n",
    "        collatz(k)\n",
    "        print('max number of numbers in Collatz Sequence', max(elelist))\n",
    "        if k==c:\n",
    "            del elelist[:]\n",
    "            return"
   ]
  },
  {
   "cell_type": "code",
   "execution_count": 29,
   "id": "fcca50db-0601-4434-96ab-c1cdc1e216f7",
   "metadata": {},
   "outputs": [
    {
     "name": "stdout",
     "output_type": "stream",
     "text": [
      "1\n",
      "max number of numbers in Collatz Sequence 1\n",
      "2\n",
      "max number of numbers in Collatz Sequence 2\n",
      "3\n",
      "max number of numbers in Collatz Sequence 8\n",
      "4\n",
      "max number of numbers in Collatz Sequence 8\n",
      "5\n",
      "max number of numbers in Collatz Sequence 8\n",
      "6\n",
      "max number of numbers in Collatz Sequence 9\n",
      "7\n",
      "max number of numbers in Collatz Sequence 17\n",
      "8\n",
      "max number of numbers in Collatz Sequence 17\n",
      "9\n",
      "max number of numbers in Collatz Sequence 20\n",
      "10\n",
      "max number of numbers in Collatz Sequence 20\n",
      "11\n",
      "max number of numbers in Collatz Sequence 20\n",
      "12\n",
      "max number of numbers in Collatz Sequence 20\n",
      "13\n",
      "max number of numbers in Collatz Sequence 20\n",
      "14\n",
      "max number of numbers in Collatz Sequence 20\n",
      "15\n",
      "max number of numbers in Collatz Sequence 20\n",
      "16\n",
      "max number of numbers in Collatz Sequence 20\n",
      "17\n",
      "max number of numbers in Collatz Sequence 20\n",
      "18\n",
      "max number of numbers in Collatz Sequence 21\n",
      "19\n",
      "max number of numbers in Collatz Sequence 21\n",
      "20\n",
      "max number of numbers in Collatz Sequence 21\n",
      "21\n",
      "max number of numbers in Collatz Sequence 21\n",
      "22\n",
      "max number of numbers in Collatz Sequence 21\n",
      "23\n",
      "max number of numbers in Collatz Sequence 21\n",
      "24\n",
      "max number of numbers in Collatz Sequence 21\n",
      "25\n",
      "max number of numbers in Collatz Sequence 24\n",
      "26\n",
      "max number of numbers in Collatz Sequence 24\n",
      "27\n",
      "max number of numbers in Collatz Sequence 112\n"
     ]
    }
   ],
   "source": [
    "collatzcard(27)"
   ]
  },
  {
   "cell_type": "code",
   "execution_count": null,
   "id": "84088c85-3c6a-46c0-b278-459fdee7766a",
   "metadata": {},
   "outputs": [],
   "source": []
  }
 ],
 "metadata": {
  "kernelspec": {
   "display_name": "Python 3 (ipykernel)",
   "language": "python",
   "name": "python3"
  },
  "language_info": {
   "codemirror_mode": {
    "name": "ipython",
    "version": 3
   },
   "file_extension": ".py",
   "mimetype": "text/x-python",
   "name": "python",
   "nbconvert_exporter": "python",
   "pygments_lexer": "ipython3",
   "version": "3.12.1"
  }
 },
 "nbformat": 4,
 "nbformat_minor": 5
}
