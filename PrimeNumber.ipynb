{
 "cells": [
  {
   "cell_type": "code",
   "execution_count": 5,
   "id": "04c3fc81-7ca0-4429-a3dc-1722343b0379",
   "metadata": {},
   "outputs": [
    {
     "name": "stdout",
     "output_type": "stream",
     "text": [
      "Hello World\n"
     ]
    }
   ],
   "source": [
    "print('Hello World')\n",
    "##Helpful Python commands\n",
    "##Print\n",
    "##while\n",
    "##input\n",
    "##== tests a condition\n",
    "##For j in list\n",
    "##Range (k,l)"
   ]
  },
  {
   "cell_type": "code",
   "execution_count": 32,
   "id": "2f75573f-628d-492e-bf05-11a5dc6be9d2",
   "metadata": {},
   "outputs": [
    {
     "name": "stdout",
     "output_type": "stream",
     "text": [
      "Insert number to find if it prime\n"
     ]
    },
    {
     "name": "stdin",
     "output_type": "stream",
     "text": [
      "enter your number 7\n"
     ]
    },
    {
     "name": "stdout",
     "output_type": "stream",
     "text": [
      "Prime\n"
     ]
    }
   ],
   "source": [
    "def IsPrime(n):\n",
    "    for j in range (2,n):\n",
    "        #n%j is the remainder\n",
    "        if n%j==0: \n",
    "            return False\n",
    "    return True"
   ]
  },
  {
   "cell_type": "code",
   "execution_count": 43,
   "id": "c59f5447-4dbc-4ddd-a3b1-fa8066889273",
   "metadata": {},
   "outputs": [
    {
     "name": "stdout",
     "output_type": "stream",
     "text": [
      "Program will find primes j,k such that j+k equals your even number\n"
     ]
    },
    {
     "name": "stdin",
     "output_type": "stream",
     "text": [
      "Insert even number 8\n"
     ]
    },
    {
     "name": "stdout",
     "output_type": "stream",
     "text": [
      "2\n",
      "2\n",
      "h\n"
     ]
    }
   ],
   "source": [
    "def goldbach(n):\n",
    "    for p in range(2,n):\n",
    "        if IsPrime(p) and IsPrime(n-p):\n",
    "            return p\n",
    "    return 'n is a counter example'"
   ]
  },
  {
   "cell_type": "code",
   "execution_count": null,
   "id": "fb718fe1-b5bf-4ff9-8d25-88efd620ae3f",
   "metadata": {},
   "outputs": [],
   "source": [
    "max_p=2\n",
    "for n in range(4,100001,2):\n",
    "    if max_p< goldbach(n):\n",
    "        max_p=goldbach(n)\n",
    "print(max_p)"
   ]
  },
  {
   "cell_type": "code",
   "execution_count": null,
   "id": "74dd4595-04dc-4d83-9d14-544196c43d90",
   "metadata": {},
   "outputs": [],
   "source": []
  }
 ],
 "metadata": {
  "kernelspec": {
   "display_name": "Python 3 (ipykernel)",
   "language": "python",
   "name": "python3"
  },
  "language_info": {
   "codemirror_mode": {
    "name": "ipython",
    "version": 3
   },
   "file_extension": ".py",
   "mimetype": "text/x-python",
   "name": "python",
   "nbconvert_exporter": "python",
   "pygments_lexer": "ipython3",
   "version": "3.12.1"
  }
 },
 "nbformat": 4,
 "nbformat_minor": 5
}
